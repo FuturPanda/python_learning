{
 "cells": [
  {
   "cell_type": "code",
   "execution_count": 199,
   "id": "0cc0bae0-79d3-4441-bf83-238bf02ee782",
   "metadata": {},
   "outputs": [],
   "source": [
    "import numpy as np\n",
    "import sys"
   ]
  },
  {
   "attachments": {},
   "cell_type": "markdown",
   "id": "b5baa9cb",
   "metadata": {},
   "source": [
    "# The Basics\n",
    "1. numpy is way faster because it's a fixed type. Way less bites to point to. \n",
    "2. Numpy use contiguous Memory -> Memory is compressed and at the same place. (lists is a lot of pointers pointing to differents places where the informations a scattered around) Numpy array is one pointer to the start and all the info is following. \n",
    "3. Single Instruction Multiple Data (SIMD) vector unit ???? \n",
    "4. Utilise in a better way in the cache. \n"
   ]
  },
  {
   "cell_type": "code",
   "execution_count": 200,
   "id": "6518b840",
   "metadata": {},
   "outputs": [
    {
     "data": {
      "text/plain": [
       "array([2, 4, 6])"
      ]
     },
     "execution_count": 200,
     "metadata": {},
     "output_type": "execute_result"
    }
   ],
   "source": [
    "a = np.array([1, 2, 3])\n",
    "b = np.array([2,2,2], dtype='int16')\n",
    "c = np.array([[2,3,4], [4,5,6]])\n",
    "d = np.array([[2,3,4], [4,5,6], [6,7,8]])\n",
    "a*b"
   ]
  },
  {
   "cell_type": "code",
   "execution_count": 201,
   "id": "3d3e81c7",
   "metadata": {},
   "outputs": [
    {
     "data": {
      "text/plain": [
       "2"
      ]
     },
     "execution_count": 201,
     "metadata": {},
     "output_type": "execute_result"
    }
   ],
   "source": [
    "# Get Dimensions\n",
    "c.ndim"
   ]
  },
  {
   "cell_type": "code",
   "execution_count": 202,
   "id": "8b8c752b",
   "metadata": {},
   "outputs": [
    {
     "data": {
      "text/plain": [
       "(3, 3)"
      ]
     },
     "execution_count": 202,
     "metadata": {},
     "output_type": "execute_result"
    }
   ],
   "source": [
    "#Get Shapes \n",
    "d.shape"
   ]
  },
  {
   "cell_type": "code",
   "execution_count": 203,
   "id": "79255c0f",
   "metadata": {},
   "outputs": [
    {
     "data": {
      "text/plain": [
       "dtype('int64')"
      ]
     },
     "execution_count": 203,
     "metadata": {},
     "output_type": "execute_result"
    }
   ],
   "source": [
    "# Get Types \n",
    "a.dtype"
   ]
  },
  {
   "cell_type": "code",
   "execution_count": 204,
   "id": "445a285b",
   "metadata": {},
   "outputs": [
    {
     "data": {
      "text/plain": [
       "dtype('int16')"
      ]
     },
     "execution_count": 204,
     "metadata": {},
     "output_type": "execute_result"
    }
   ],
   "source": [
    "#Change types \n",
    "b.dtype"
   ]
  },
  {
   "cell_type": "code",
   "execution_count": 205,
   "id": "56d975eb",
   "metadata": {},
   "outputs": [
    {
     "data": {
      "text/plain": [
       "2"
      ]
     },
     "execution_count": 205,
     "metadata": {},
     "output_type": "execute_result"
    }
   ],
   "source": [
    "#Get Size in bytes\n",
    "b.itemsize"
   ]
  },
  {
   "cell_type": "code",
   "execution_count": 206,
   "id": "892d2640",
   "metadata": {},
   "outputs": [
    {
     "data": {
      "text/plain": [
       "8"
      ]
     },
     "execution_count": 206,
     "metadata": {},
     "output_type": "execute_result"
    }
   ],
   "source": [
    "a.itemsize"
   ]
  },
  {
   "cell_type": "code",
   "execution_count": 207,
   "id": "7604e415",
   "metadata": {},
   "outputs": [
    {
     "data": {
      "text/plain": [
       "24"
      ]
     },
     "execution_count": 207,
     "metadata": {},
     "output_type": "execute_result"
    }
   ],
   "source": [
    "# Get total size : a.size *a.itemsize OR a.nbytes\n",
    "\n",
    "a.nbytes"
   ]
  },
  {
   "attachments": {},
   "cell_type": "markdown",
   "id": "33481fc5",
   "metadata": {},
   "source": [
    "# Accessing / Changing elements, rows, columns \n"
   ]
  },
  {
   "cell_type": "code",
   "execution_count": 208,
   "id": "a9449085",
   "metadata": {},
   "outputs": [
    {
     "data": {
      "text/plain": [
       "10"
      ]
     },
     "execution_count": 208,
     "metadata": {},
     "output_type": "execute_result"
    }
   ],
   "source": [
    "matrix = np.array([[1,2,3,4,5,6,7],[8,9,10,11,12,13,14]])\n",
    "# Get a specific element => [row, column] ; \n",
    "matrix[1, 2]"
   ]
  },
  {
   "cell_type": "code",
   "execution_count": 209,
   "id": "44b4ad73",
   "metadata": {},
   "outputs": [
    {
     "data": {
      "text/plain": [
       "array([1, 2, 3, 4, 5, 6, 7])"
      ]
     },
     "execution_count": 209,
     "metadata": {},
     "output_type": "execute_result"
    }
   ],
   "source": [
    "# Get a specific row \n",
    "matrix[0, :]"
   ]
  },
  {
   "cell_type": "code",
   "execution_count": 210,
   "id": "5e493ab0",
   "metadata": {},
   "outputs": [
    {
     "data": {
      "text/plain": [
       "array([ 3, 10])"
      ]
     },
     "execution_count": 210,
     "metadata": {},
     "output_type": "execute_result"
    }
   ],
   "source": [
    "# Get a specific column \n",
    "matrix[:, 2]"
   ]
  },
  {
   "cell_type": "code",
   "execution_count": 211,
   "id": "84c2e8ba",
   "metadata": {},
   "outputs": [
    {
     "data": {
      "text/plain": [
       "array([[ 2,  4,  6],\n",
       "       [ 9, 11, 13]])"
      ]
     },
     "execution_count": 211,
     "metadata": {},
     "output_type": "execute_result"
    }
   ],
   "source": [
    "# Get Fancy \n",
    "matrix[:, 1:6:2]"
   ]
  }
 ],
 "metadata": {
  "kernelspec": {
   "display_name": "Python 3 (ipykernel)",
   "language": "python",
   "name": "python3"
  },
  "language_info": {
   "codemirror_mode": {
    "name": "ipython",
    "version": 3
   },
   "file_extension": ".py",
   "mimetype": "text/x-python",
   "name": "python",
   "nbconvert_exporter": "python",
   "pygments_lexer": "ipython3",
   "version": "3.11.2"
  }
 },
 "nbformat": 4,
 "nbformat_minor": 5
}
