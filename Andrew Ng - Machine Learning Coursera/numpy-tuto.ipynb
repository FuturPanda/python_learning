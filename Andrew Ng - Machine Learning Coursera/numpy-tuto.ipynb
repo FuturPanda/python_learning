{
 "cells": [
  {
   "cell_type": "code",
   "execution_count": 199,
   "id": "0cc0bae0-79d3-4441-bf83-238bf02ee782",
   "metadata": {},
   "outputs": [],
   "source": [
    "import numpy as np\n",
    "import sys"
   ]
  },
  {
   "attachments": {},
   "cell_type": "markdown",
   "id": "b5baa9cb",
   "metadata": {},
   "source": [
    "# The Basics\n",
    "1. numpy is way faster because it's a fixed type. Way less bites to point to. \n",
    "2. Numpy use contiguous Memory -> Memory is compressed and at the same place. (lists is a lot of pointers pointing to differents places where the informations a scattered around) Numpy array is one pointer to the start and all the info is following. \n",
    "3. Single Instruction Multiple Data (SIMD) vector unit ???? \n",
    "4. Utilise in a better way in the cache. \n"
   ]
  },
  {
   "cell_type": "code",
   "execution_count": 200,
   "id": "6518b840",
   "metadata": {},
   "outputs": [
    {
     "data": {
      "text/plain": [
       "array([2, 4, 6])"
      ]
     },
     "execution_count": 200,
     "metadata": {},
     "output_type": "execute_result"
    }
   ],
   "source": [
    "a = np.array([1, 2, 3])\n",
    "b = np.array([2,2,2], dtype='int16')\n",
    "c = np.array([[2,3,4], [4,5,6]])\n",
    "d = np.array([[2,3,4], [4,5,6], [6,7,8]])\n",
    "a*b"
   ]
  },
  {
   "cell_type": "code",
   "execution_count": 201,
   "id": "3d3e81c7",
   "metadata": {},
   "outputs": [
    {
     "data": {
      "text/plain": [
       "2"
      ]
     },
     "execution_count": 201,
     "metadata": {},
     "output_type": "execute_result"
    }
   ],
   "source": [
    "# Get Dimensions\n",
    "c.ndim"
   ]
  },
  {
   "cell_type": "code",
   "execution_count": 202,
   "id": "8b8c752b",
   "metadata": {},
   "outputs": [
    {
     "data": {
      "text/plain": [
       "(3, 3)"
      ]
     },
     "execution_count": 202,
     "metadata": {},
     "output_type": "execute_result"
    }
   ],
   "source": [
    "#Get Shapes \n",
    "d.shape"
   ]
  },
  {
   "cell_type": "code",
   "execution_count": 203,
   "id": "79255c0f",
   "metadata": {},
   "outputs": [
    {
     "data": {
      "text/plain": [
       "dtype('int64')"
      ]
     },
     "execution_count": 203,
     "metadata": {},
     "output_type": "execute_result"
    }
   ],
   "source": [
    "# Get Types \n",
    "a.dtype"
   ]
  },
  {
   "cell_type": "code",
   "execution_count": 204,
   "id": "445a285b",
   "metadata": {},
   "outputs": [
    {
     "data": {
      "text/plain": [
       "dtype('int16')"
      ]
     },
     "execution_count": 204,
     "metadata": {},
     "output_type": "execute_result"
    }
   ],
   "source": [
    "#Change types \n",
    "b.dtype"
   ]
  },
  {
   "cell_type": "code",
   "execution_count": 205,
   "id": "56d975eb",
   "metadata": {},
   "outputs": [
    {
     "data": {
      "text/plain": [
       "2"
      ]
     },
     "execution_count": 205,
     "metadata": {},
     "output_type": "execute_result"
    }
   ],
   "source": [
    "#Get Size in bytes\n",
    "b.itemsize"
   ]
  },
  {
   "cell_type": "code",
   "execution_count": 206,
   "id": "892d2640",
   "metadata": {},
   "outputs": [
    {
     "data": {
      "text/plain": [
       "8"
      ]
     },
     "execution_count": 206,
     "metadata": {},
     "output_type": "execute_result"
    }
   ],
   "source": [
    "a.itemsize"
   ]
  },
  {
   "cell_type": "code",
   "execution_count": 207,
   "id": "7604e415",
   "metadata": {},
   "outputs": [
    {
     "data": {
      "text/plain": [
       "24"
      ]
     },
     "execution_count": 207,
     "metadata": {},
     "output_type": "execute_result"
    }
   ],
   "source": [
    "# Get total size : a.size *a.itemsize OR a.nbytes\n",
    "\n",
    "a.nbytes"
   ]
  },
  {
   "attachments": {},
   "cell_type": "markdown",
   "id": "33481fc5",
   "metadata": {},
   "source": [
    "# Accessing / Changing elements, rows, columns \n"
   ]
  },
  {
   "cell_type": "code",
   "execution_count": 208,
   "id": "a9449085",
   "metadata": {},
   "outputs": [
    {
     "data": {
      "text/plain": [
       "10"
      ]
     },
     "execution_count": 208,
     "metadata": {},
     "output_type": "execute_result"
    }
   ],
   "source": [
    "matrix = np.array([[1,2,3,4,5,6,7],[8,9,10,11,12,13,14]])\n",
    "# Get a specific element => [row, column] ; \n",
    "matrix[1, 2]"
   ]
  },
  {
   "cell_type": "code",
   "execution_count": 209,
   "id": "44b4ad73",
   "metadata": {},
   "outputs": [
    {
     "data": {
      "text/plain": [
       "array([1, 2, 3, 4, 5, 6, 7])"
      ]
     },
     "execution_count": 209,
     "metadata": {},
     "output_type": "execute_result"
    }
   ],
   "source": [
    "# Get a specific row \n",
    "matrix[0, :]"
   ]
  },
  {
   "cell_type": "code",
   "execution_count": 210,
   "id": "5e493ab0",
   "metadata": {},
   "outputs": [
    {
     "data": {
      "text/plain": [
       "array([ 3, 10])"
      ]
     },
     "execution_count": 210,
     "metadata": {},
     "output_type": "execute_result"
    }
   ],
   "source": [
    "# Get a specific column \n",
    "matrix[:, 2]"
   ]
  },
  {
   "cell_type": "code",
   "execution_count": 211,
   "id": "84c2e8ba",
   "metadata": {},
   "outputs": [
    {
     "data": {
      "text/plain": [
       "array([[ 2,  4,  6],\n",
       "       [ 9, 11, 13]])"
      ]
     },
     "execution_count": 211,
     "metadata": {},
     "output_type": "execute_result"
    }
   ],
   "source": [
    "# Get Fancy \n",
    "matrix[:, 1:6:2]"
   ]
  },
  {
   "attachments": {},
   "cell_type": "markdown",
   "id": "1961b3f1",
   "metadata": {},
   "source": [
    "# 3d examples \n",
    "Work Ooutside in to find element. "
   ]
  },
  {
   "cell_type": "code",
   "execution_count": 212,
   "id": "16371de9",
   "metadata": {},
   "outputs": [
    {
     "name": "stdout",
     "output_type": "stream",
     "text": [
      "[[[1 2]\n",
      "  [3 4]]\n",
      "\n",
      " [[4 5]\n",
      "  [6 7]]]\n"
     ]
    }
   ],
   "source": [
    "threedarr = np.array([[[1,2],[3,4]],[[4,5], [6,7]]])\n",
    "print(threedarr)"
   ]
  },
  {
   "cell_type": "code",
   "execution_count": 215,
   "id": "6eb03adf",
   "metadata": {},
   "outputs": [
    {
     "data": {
      "text/plain": [
       "7"
      ]
     },
     "execution_count": 215,
     "metadata": {},
     "output_type": "execute_result"
    }
   ],
   "source": [
    "threedarr[1,1, 1]"
   ]
  },
  {
   "attachments": {},
   "cell_type": "markdown",
   "id": "da7c279e",
   "metadata": {},
   "source": [
    "# Initialize differents types of arrays : "
   ]
  },
  {
   "cell_type": "code",
   "execution_count": 223,
   "id": "5c98b8a0",
   "metadata": {},
   "outputs": [
    {
     "name": "stdout",
     "output_type": "stream",
     "text": [
      "[[[[[0. 0.]\n",
      "    [0. 0.]\n",
      "    [0. 0.]\n",
      "    [0. 0.]\n",
      "    [0. 0.]]\n",
      "\n",
      "   [[0. 0.]\n",
      "    [0. 0.]\n",
      "    [0. 0.]\n",
      "    [0. 0.]\n",
      "    [0. 0.]]\n",
      "\n",
      "   [[0. 0.]\n",
      "    [0. 0.]\n",
      "    [0. 0.]\n",
      "    [0. 0.]\n",
      "    [0. 0.]]\n",
      "\n",
      "   [[0. 0.]\n",
      "    [0. 0.]\n",
      "    [0. 0.]\n",
      "    [0. 0.]\n",
      "    [0. 0.]]]\n",
      "\n",
      "\n",
      "  [[[0. 0.]\n",
      "    [0. 0.]\n",
      "    [0. 0.]\n",
      "    [0. 0.]\n",
      "    [0. 0.]]\n",
      "\n",
      "   [[0. 0.]\n",
      "    [0. 0.]\n",
      "    [0. 0.]\n",
      "    [0. 0.]\n",
      "    [0. 0.]]\n",
      "\n",
      "   [[0. 0.]\n",
      "    [0. 0.]\n",
      "    [0. 0.]\n",
      "    [0. 0.]\n",
      "    [0. 0.]]\n",
      "\n",
      "   [[0. 0.]\n",
      "    [0. 0.]\n",
      "    [0. 0.]\n",
      "    [0. 0.]\n",
      "    [0. 0.]]]]\n",
      "\n",
      "\n",
      "\n",
      " [[[[0. 0.]\n",
      "    [0. 0.]\n",
      "    [0. 0.]\n",
      "    [0. 0.]\n",
      "    [0. 0.]]\n",
      "\n",
      "   [[0. 0.]\n",
      "    [0. 0.]\n",
      "    [0. 0.]\n",
      "    [0. 0.]\n",
      "    [0. 0.]]\n",
      "\n",
      "   [[0. 0.]\n",
      "    [0. 0.]\n",
      "    [0. 0.]\n",
      "    [0. 0.]\n",
      "    [0. 0.]]\n",
      "\n",
      "   [[0. 0.]\n",
      "    [0. 0.]\n",
      "    [0. 0.]\n",
      "    [0. 0.]\n",
      "    [0. 0.]]]\n",
      "\n",
      "\n",
      "  [[[0. 0.]\n",
      "    [0. 0.]\n",
      "    [0. 0.]\n",
      "    [0. 0.]\n",
      "    [0. 0.]]\n",
      "\n",
      "   [[0. 0.]\n",
      "    [0. 0.]\n",
      "    [0. 0.]\n",
      "    [0. 0.]\n",
      "    [0. 0.]]\n",
      "\n",
      "   [[0. 0.]\n",
      "    [0. 0.]\n",
      "    [0. 0.]\n",
      "    [0. 0.]\n",
      "    [0. 0.]]\n",
      "\n",
      "   [[0. 0.]\n",
      "    [0. 0.]\n",
      "    [0. 0.]\n",
      "    [0. 0.]\n",
      "    [0. 0.]]]]]\n"
     ]
    }
   ],
   "source": [
    "# All Zeros matrix : argulment is shape. \n",
    "# np.zeros(5) = 1 dimension. \n",
    "zero = np.zeros((2, 2, 4, 5, 2))\n",
    "print(zero)"
   ]
  },
  {
   "cell_type": "code",
   "execution_count": 225,
   "id": "0b2f0a92",
   "metadata": {},
   "outputs": [
    {
     "data": {
      "text/plain": [
       "array([[[1, 1],\n",
       "        [1, 1]],\n",
       "\n",
       "       [[1, 1],\n",
       "        [1, 1]],\n",
       "\n",
       "       [[1, 1],\n",
       "        [1, 1]],\n",
       "\n",
       "       [[1, 1],\n",
       "        [1, 1]]], dtype=int32)"
      ]
     },
     "execution_count": 225,
     "metadata": {},
     "output_type": "execute_result"
    }
   ],
   "source": [
    "# All ones matrix \n",
    "np.ones((4, 2, 2), dtype='int32')"
   ]
  },
  {
   "cell_type": "code",
   "execution_count": 226,
   "id": "76314282",
   "metadata": {},
   "outputs": [
    {
     "data": {
      "text/plain": [
       "array([[[5, 5],\n",
       "        [5, 5]],\n",
       "\n",
       "       [[5, 5],\n",
       "        [5, 5]],\n",
       "\n",
       "       [[5, 5],\n",
       "        [5, 5]],\n",
       "\n",
       "       [[5, 5],\n",
       "        [5, 5]]])"
      ]
     },
     "execution_count": 226,
     "metadata": {},
     "output_type": "execute_result"
    }
   ],
   "source": [
    "# Any number full => \n",
    "np.full((4,2,2), 5)"
   ]
  },
  {
   "cell_type": "code",
   "execution_count": null,
   "id": "8ea52ac8",
   "metadata": {},
   "outputs": [],
   "source": [
    "# Any number full-like \n",
    "# Get the shape of a matrix \n",
    "np.full_like(matrix, number)"
   ]
  },
  {
   "cell_type": "code",
   "execution_count": 227,
   "id": "10ae7ccb",
   "metadata": {},
   "outputs": [
    {
     "data": {
      "text/plain": [
       "array([[0.69302887, 0.91931487],\n",
       "       [0.96500926, 0.17573813],\n",
       "       [0.78078499, 0.01959024],\n",
       "       [0.16553559, 0.30660659]])"
      ]
     },
     "execution_count": 227,
     "metadata": {},
     "output_type": "execute_result"
    }
   ],
   "source": [
    "#Random decimal numbers\n",
    "np.random.rand(4,2)"
   ]
  },
  {
   "cell_type": "code",
   "execution_count": 228,
   "id": "c94df97c",
   "metadata": {},
   "outputs": [
    {
     "data": {
      "text/plain": [
       "array([[0, 5, 3],\n",
       "       [5, 5, 3],\n",
       "       [5, 6, 3]])"
      ]
     },
     "execution_count": 228,
     "metadata": {},
     "output_type": "execute_result"
    }
   ],
   "source": [
    "# Random integer values\n",
    "#Randint(max num or range, shape )\n",
    "np.random.randint(7, size=(3,3))"
   ]
  },
  {
   "cell_type": "code",
   "execution_count": 229,
   "id": "1e7e2935",
   "metadata": {},
   "outputs": [
    {
     "data": {
      "text/plain": [
       "array([[1., 0., 0., 0., 0.],\n",
       "       [0., 1., 0., 0., 0.],\n",
       "       [0., 0., 1., 0., 0.],\n",
       "       [0., 0., 0., 1., 0.],\n",
       "       [0., 0., 0., 0., 1.]])"
      ]
     },
     "execution_count": 229,
     "metadata": {},
     "output_type": "execute_result"
    }
   ],
   "source": [
    "# Identity matrix\n",
    "#pure RREF matrix\n",
    "np.identity(5)"
   ]
  },
  {
   "cell_type": "code",
   "execution_count": 231,
   "id": "54f5e499",
   "metadata": {},
   "outputs": [
    {
     "name": "stdout",
     "output_type": "stream",
     "text": [
      "[[1 2 3]\n",
      " [1 2 3]\n",
      " [1 2 3]]\n",
      "[[1 1 1 1 2 2 2 2 3 3 3 3]]\n"
     ]
    }
   ],
   "source": [
    "# Repeat an array\n",
    "arr = np.array([[1,2,3]])\n",
    "r1 = np.repeat(arr, 3, axis=0)\n",
    "print(r1)\n",
    "r2 = np.repeat(arr, 4, axis=1)\n",
    "print(r2)"
   ]
  },
  {
   "cell_type": "code",
   "execution_count": 241,
   "id": "e5b15b3c",
   "metadata": {},
   "outputs": [
    {
     "name": "stdout",
     "output_type": "stream",
     "text": [
      "[[1. 1. 1. 1. 1.]\n",
      " [1. 0. 0. 0. 1.]\n",
      " [1. 0. 9. 0. 1.]\n",
      " [1. 0. 0. 0. 1.]\n",
      " [1. 1. 1. 1. 1.]]\n"
     ]
    }
   ],
   "source": [
    "exercise = np.ones((5,5))\n",
    "z = np.zeros((3,3))\n",
    "z[1,1] = 9\n",
    "exercise[1:-1,1:-1 ] = z\n",
    "\n",
    "print(exercise)"
   ]
  },
  {
   "attachments": {},
   "cell_type": "markdown",
   "id": "be53adda",
   "metadata": {},
   "source": [
    "# Be careful when copying arrays !!!!!!\n",
    "# Because every elements points to the same memory"
   ]
  },
  {
   "cell_type": "code",
   "execution_count": 244,
   "id": "285a99f3",
   "metadata": {},
   "outputs": [
    {
     "name": "stdout",
     "output_type": "stream",
     "text": [
      "[100   2   3]\n"
     ]
    }
   ],
   "source": [
    "# a=np.array([1,2,3])\n",
    "b = a\n",
    "b\n",
    "b[0] = 100\n",
    "print(a)"
   ]
  },
  {
   "cell_type": "code",
   "execution_count": null,
   "id": "5cc133e8",
   "metadata": {},
   "outputs": [],
   "source": [
    "# a=np.array([1,2,3])\n",
    "b = a.copy\n"
   ]
  },
  {
   "attachments": {},
   "cell_type": "markdown",
   "id": "d4c926c2",
   "metadata": {},
   "source": [
    "# Mathematics ! \n",
    "# Row operations and matrics / vectors operations are ok ! "
   ]
  },
  {
   "cell_type": "code",
   "execution_count": 247,
   "id": "bfc3e4f3",
   "metadata": {},
   "outputs": [],
   "source": [
    "a=np.array([1,2,3])"
   ]
  },
  {
   "cell_type": "code",
   "execution_count": 248,
   "id": "ca51dfbe",
   "metadata": {},
   "outputs": [
    {
     "data": {
      "text/plain": [
       "array([3, 4, 5])"
      ]
     },
     "execution_count": 248,
     "metadata": {},
     "output_type": "execute_result"
    }
   ],
   "source": [
    "a+2"
   ]
  },
  {
   "cell_type": "code",
   "execution_count": null,
   "id": "94705ec7",
   "metadata": {},
   "outputs": [],
   "source": [
    "a*2"
   ]
  },
  {
   "cell_type": "code",
   "execution_count": null,
   "id": "0db7559e",
   "metadata": {},
   "outputs": [],
   "source": [
    "a/2"
   ]
  },
  {
   "cell_type": "code",
   "execution_count": 249,
   "id": "ce79dd63",
   "metadata": {},
   "outputs": [
    {
     "data": {
      "text/plain": [
       "array([1, 4, 9])"
      ]
     },
     "execution_count": 249,
     "metadata": {},
     "output_type": "execute_result"
    }
   ],
   "source": [
    "a**2"
   ]
  }
 ],
 "metadata": {
  "kernelspec": {
   "display_name": "Python 3 (ipykernel)",
   "language": "python",
   "name": "python3"
  },
  "language_info": {
   "codemirror_mode": {
    "name": "ipython",
    "version": 3
   },
   "file_extension": ".py",
   "mimetype": "text/x-python",
   "name": "python",
   "nbconvert_exporter": "python",
   "pygments_lexer": "ipython3",
   "version": "3.11.2"
  }
 },
 "nbformat": 4,
 "nbformat_minor": 5
}
