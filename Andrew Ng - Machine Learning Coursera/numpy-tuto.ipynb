{
 "cells": [
  {
   "cell_type": "code",
   "execution_count": null,
   "id": "0cc0bae0-79d3-4441-bf83-238bf02ee782",
   "metadata": {},
   "outputs": [],
   "source": [
    "import numpy as np\n",
    "import sys"
   ]
  },
  {
   "attachments": {},
   "cell_type": "markdown",
   "id": "b5baa9cb",
   "metadata": {},
   "source": [
    "# The Basics\n",
    "1. numpy is way faster because it's a fixed type. Way less bites to point to. \n",
    "2. Numpy use contiguous Memory -> Memory is compressed and at the same place. (lists is a lot of pointers pointing to differents places where the informations a scattered around) Numpy array is one pointer to the start and all the info is following. \n",
    "3. Single Instruction Multiple Data (SIMD) vector unit ???? \n",
    "4. Utilise in a better way in the cache. \n"
   ]
  },
  {
   "cell_type": "code",
   "execution_count": null,
   "id": "6518b840",
   "metadata": {},
   "outputs": [],
   "source": [
    "a = np.array([1, 2, 3])\n",
    "b = np.array([2,2,2])\n"
   ]
  }
 ],
 "metadata": {
  "kernelspec": {
   "display_name": "Python 3 (ipykernel)",
   "language": "python",
   "name": "python3"
  },
  "language_info": {
   "codemirror_mode": {
    "name": "ipython",
    "version": 3
   },
   "file_extension": ".py",
   "mimetype": "text/x-python",
   "name": "python",
   "nbconvert_exporter": "python",
   "pygments_lexer": "ipython3",
   "version": "3.11.2"
  }
 },
 "nbformat": 4,
 "nbformat_minor": 5
}
